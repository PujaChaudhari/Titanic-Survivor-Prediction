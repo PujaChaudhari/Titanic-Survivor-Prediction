{
 "cells": [
  {
   "cell_type": "markdown",
   "metadata": {},
   "source": [
    "# Survival of Titanic \n",
    "I have collected the dataset from Kaggle  (https://www.kaggle.com/c/titanic) this and  I will be using Machine Learning to predict the survival status of passengers on the Titanic"
   ]
  },
  {
   "cell_type": "code",
   "execution_count": 73,
   "metadata": {},
   "outputs": [],
   "source": [
    "import pandas as pd"
   ]
  },
  {
   "cell_type": "code",
   "execution_count": 74,
   "metadata": {},
   "outputs": [],
   "source": [
    "tit=pd.read_csv(r\"C:\\Users\\admin\\Desktop\\datasets\\Titanic.csv\")"
   ]
  },
  {
   "cell_type": "code",
   "execution_count": 75,
   "metadata": {},
   "outputs": [
    {
     "data": {
      "text/html": [
       "<div>\n",
       "<style scoped>\n",
       "    .dataframe tbody tr th:only-of-type {\n",
       "        vertical-align: middle;\n",
       "    }\n",
       "\n",
       "    .dataframe tbody tr th {\n",
       "        vertical-align: top;\n",
       "    }\n",
       "\n",
       "    .dataframe thead th {\n",
       "        text-align: right;\n",
       "    }\n",
       "</style>\n",
       "<table border=\"1\" class=\"dataframe\">\n",
       "  <thead>\n",
       "    <tr style=\"text-align: right;\">\n",
       "      <th></th>\n",
       "      <th>pclass</th>\n",
       "      <th>survived</th>\n",
       "      <th>sex</th>\n",
       "      <th>age</th>\n",
       "      <th>sibsp</th>\n",
       "      <th>parch</th>\n",
       "      <th>fare</th>\n",
       "      <th>embarked</th>\n",
       "    </tr>\n",
       "  </thead>\n",
       "  <tbody>\n",
       "    <tr>\n",
       "      <th>0</th>\n",
       "      <td>1.0</td>\n",
       "      <td>1.0</td>\n",
       "      <td>female</td>\n",
       "      <td>29.0000</td>\n",
       "      <td>0.0</td>\n",
       "      <td>0.0</td>\n",
       "      <td>211.3375</td>\n",
       "      <td>S</td>\n",
       "    </tr>\n",
       "    <tr>\n",
       "      <th>1</th>\n",
       "      <td>1.0</td>\n",
       "      <td>1.0</td>\n",
       "      <td>male</td>\n",
       "      <td>0.9167</td>\n",
       "      <td>1.0</td>\n",
       "      <td>2.0</td>\n",
       "      <td>151.5500</td>\n",
       "      <td>S</td>\n",
       "    </tr>\n",
       "  </tbody>\n",
       "</table>\n",
       "</div>"
      ],
      "text/plain": [
       "   pclass  survived     sex      age  sibsp  parch      fare embarked\n",
       "0     1.0       1.0  female  29.0000    0.0    0.0  211.3375        S\n",
       "1     1.0       1.0    male   0.9167    1.0    2.0  151.5500        S"
      ]
     },
     "execution_count": 75,
     "metadata": {},
     "output_type": "execute_result"
    }
   ],
   "source": [
    "tit1=tit.drop([\"name\",\"cabin\",\"body\",\"home.dest\",\"boat\",\"ticket\"],axis=1)\n",
    "tit1.head(2)"
   ]
  },
  {
   "cell_type": "code",
   "execution_count": 76,
   "metadata": {},
   "outputs": [
    {
     "data": {
      "text/plain": [
       "pclass        1\n",
       "survived      1\n",
       "sex           1\n",
       "age         264\n",
       "sibsp         1\n",
       "parch         1\n",
       "fare          2\n",
       "embarked      3\n",
       "dtype: int64"
      ]
     },
     "execution_count": 76,
     "metadata": {},
     "output_type": "execute_result"
    }
   ],
   "source": [
    "tit1.isnull().sum()"
   ]
  },
  {
   "cell_type": "code",
   "execution_count": 77,
   "metadata": {},
   "outputs": [
    {
     "data": {
      "text/html": [
       "<div>\n",
       "<style scoped>\n",
       "    .dataframe tbody tr th:only-of-type {\n",
       "        vertical-align: middle;\n",
       "    }\n",
       "\n",
       "    .dataframe tbody tr th {\n",
       "        vertical-align: top;\n",
       "    }\n",
       "\n",
       "    .dataframe thead th {\n",
       "        text-align: right;\n",
       "    }\n",
       "</style>\n",
       "<table border=\"1\" class=\"dataframe\">\n",
       "  <thead>\n",
       "    <tr style=\"text-align: right;\">\n",
       "      <th></th>\n",
       "      <th>pclass</th>\n",
       "      <th>survived</th>\n",
       "      <th>sex</th>\n",
       "      <th>age</th>\n",
       "      <th>sibsp</th>\n",
       "      <th>parch</th>\n",
       "      <th>fare</th>\n",
       "      <th>embarked</th>\n",
       "    </tr>\n",
       "  </thead>\n",
       "  <tbody>\n",
       "    <tr>\n",
       "      <th>0</th>\n",
       "      <td>1.0</td>\n",
       "      <td>1.0</td>\n",
       "      <td>female</td>\n",
       "      <td>29.0000</td>\n",
       "      <td>0.0</td>\n",
       "      <td>0.0</td>\n",
       "      <td>211.3375</td>\n",
       "      <td>S</td>\n",
       "    </tr>\n",
       "    <tr>\n",
       "      <th>1</th>\n",
       "      <td>1.0</td>\n",
       "      <td>1.0</td>\n",
       "      <td>male</td>\n",
       "      <td>0.9167</td>\n",
       "      <td>1.0</td>\n",
       "      <td>2.0</td>\n",
       "      <td>151.5500</td>\n",
       "      <td>S</td>\n",
       "    </tr>\n",
       "  </tbody>\n",
       "</table>\n",
       "</div>"
      ],
      "text/plain": [
       "   pclass  survived     sex      age  sibsp  parch      fare embarked\n",
       "0     1.0       1.0  female  29.0000    0.0    0.0  211.3375        S\n",
       "1     1.0       1.0    male   0.9167    1.0    2.0  151.5500        S"
      ]
     },
     "execution_count": 77,
     "metadata": {},
     "output_type": "execute_result"
    }
   ],
   "source": [
    "tit1.age=tit1.age.fillna(tit1.age.mean())\n",
    "tit1.embarked=tit1.embarked.fillna(\"s\")\n",
    "tit1.fare=tit1.fare.fillna(tit1.fare.mean())\n",
    "tit1.shape\n",
    "tit1.isnull().sum() \n",
    "tit1.head(2)"
   ]
  },
  {
   "cell_type": "code",
   "execution_count": 78,
   "metadata": {},
   "outputs": [
    {
     "data": {
      "text/plain": [
       "pclass      0\n",
       "survived    0\n",
       "sex         0\n",
       "age         0\n",
       "sibsp       0\n",
       "parch       0\n",
       "fare        0\n",
       "embarked    0\n",
       "dtype: int64"
      ]
     },
     "execution_count": 78,
     "metadata": {},
     "output_type": "execute_result"
    }
   ],
   "source": [
    "tit2=tit1.dropna()\n",
    "tit2.isnull().sum() "
   ]
  },
  {
   "cell_type": "code",
   "execution_count": 79,
   "metadata": {},
   "outputs": [
    {
     "data": {
      "text/html": [
       "<div>\n",
       "<style scoped>\n",
       "    .dataframe tbody tr th:only-of-type {\n",
       "        vertical-align: middle;\n",
       "    }\n",
       "\n",
       "    .dataframe tbody tr th {\n",
       "        vertical-align: top;\n",
       "    }\n",
       "\n",
       "    .dataframe thead th {\n",
       "        text-align: right;\n",
       "    }\n",
       "</style>\n",
       "<table border=\"1\" class=\"dataframe\">\n",
       "  <thead>\n",
       "    <tr style=\"text-align: right;\">\n",
       "      <th></th>\n",
       "      <th>pclass</th>\n",
       "      <th>survived</th>\n",
       "      <th>age</th>\n",
       "      <th>sibsp</th>\n",
       "      <th>parch</th>\n",
       "      <th>fare</th>\n",
       "    </tr>\n",
       "  </thead>\n",
       "  <tbody>\n",
       "    <tr>\n",
       "      <th>pclass</th>\n",
       "      <td>1.000000</td>\n",
       "      <td>-0.312469</td>\n",
       "      <td>-0.366370</td>\n",
       "      <td>0.060832</td>\n",
       "      <td>0.018322</td>\n",
       "      <td>-0.558477</td>\n",
       "    </tr>\n",
       "    <tr>\n",
       "      <th>survived</th>\n",
       "      <td>-0.312469</td>\n",
       "      <td>1.000000</td>\n",
       "      <td>-0.050199</td>\n",
       "      <td>-0.027825</td>\n",
       "      <td>0.082660</td>\n",
       "      <td>0.244208</td>\n",
       "    </tr>\n",
       "    <tr>\n",
       "      <th>age</th>\n",
       "      <td>-0.366370</td>\n",
       "      <td>-0.050199</td>\n",
       "      <td>1.000000</td>\n",
       "      <td>-0.190747</td>\n",
       "      <td>-0.130872</td>\n",
       "      <td>0.171521</td>\n",
       "    </tr>\n",
       "    <tr>\n",
       "      <th>sibsp</th>\n",
       "      <td>0.060832</td>\n",
       "      <td>-0.027825</td>\n",
       "      <td>-0.190747</td>\n",
       "      <td>1.000000</td>\n",
       "      <td>0.373587</td>\n",
       "      <td>0.160224</td>\n",
       "    </tr>\n",
       "    <tr>\n",
       "      <th>parch</th>\n",
       "      <td>0.018322</td>\n",
       "      <td>0.082660</td>\n",
       "      <td>-0.130872</td>\n",
       "      <td>0.373587</td>\n",
       "      <td>1.000000</td>\n",
       "      <td>0.221522</td>\n",
       "    </tr>\n",
       "    <tr>\n",
       "      <th>fare</th>\n",
       "      <td>-0.558477</td>\n",
       "      <td>0.244208</td>\n",
       "      <td>0.171521</td>\n",
       "      <td>0.160224</td>\n",
       "      <td>0.221522</td>\n",
       "      <td>1.000000</td>\n",
       "    </tr>\n",
       "  </tbody>\n",
       "</table>\n",
       "</div>"
      ],
      "text/plain": [
       "            pclass  survived       age     sibsp     parch      fare\n",
       "pclass    1.000000 -0.312469 -0.366370  0.060832  0.018322 -0.558477\n",
       "survived -0.312469  1.000000 -0.050199 -0.027825  0.082660  0.244208\n",
       "age      -0.366370 -0.050199  1.000000 -0.190747 -0.130872  0.171521\n",
       "sibsp     0.060832 -0.027825 -0.190747  1.000000  0.373587  0.160224\n",
       "parch     0.018322  0.082660 -0.130872  0.373587  1.000000  0.221522\n",
       "fare     -0.558477  0.244208  0.171521  0.160224  0.221522  1.000000"
      ]
     },
     "execution_count": 79,
     "metadata": {},
     "output_type": "execute_result"
    }
   ],
   "source": [
    "correlation=tit2.corr()\n",
    "correlation"
   ]
  },
  {
   "cell_type": "markdown",
   "metadata": {},
   "source": [
    "# Exploratory Data Analysis"
   ]
  },
  {
   "cell_type": "code",
   "execution_count": 80,
   "metadata": {},
   "outputs": [],
   "source": [
    "import  matplotlib.pyplot as plt"
   ]
  },
  {
   "cell_type": "code",
   "execution_count": 81,
   "metadata": {},
   "outputs": [
    {
     "data": {
      "text/plain": [
       "Text(0, 0.5, 'survived count')"
      ]
     },
     "execution_count": 81,
     "metadata": {},
     "output_type": "execute_result"
    },
    {
     "data": {
      "image/png": "[encoded data removed]",
      "text/plain": [
       "<Figure size 432x288 with 1 Axes>"
      ]
     },
     "metadata": {
      "needs_background": "light"
     },
     "output_type": "display_data"
    }
   ],
   "source": [
    "ab=tit2.groupby('sex').survived.value_counts()\n",
    "ab\n",
    "survived=(72,19)\n",
    "sex=('female','male')\n",
    "plt.bar(sex,survived)\n",
    "plt.title(\"sex vs survied percent\")\n",
    "plt.xlabel(\"sex\")\n",
    "plt.ylabel(\"survived count\")\n",
    "\n"
   ]
  },
  {
   "cell_type": "code",
   "execution_count": 82,
   "metadata": {},
   "outputs": [],
   "source": [
    "import seaborn as sns"
   ]
  },
  {
   "cell_type": "code",
   "execution_count": 83,
   "metadata": {},
   "outputs": [
    {
     "data": {
      "text/plain": [
       "<matplotlib.axes._subplots.AxesSubplot at 0x28368c8e320>"
      ]
     },
     "execution_count": 83,
     "metadata": {},
     "output_type": "execute_result"
    },
    {
     "data": {
      "image/png": "[encoded data removed]",
      "text/plain": [
       "<Figure size 432x288 with 1 Axes>"
      ]
     },
     "metadata": {
      "needs_background": "light"
     },
     "output_type": "display_data"
    }
   ],
   "source": [
    "sns.countplot(x='survived',hue='pclass',data=tit2)"
   ]
  },
  {
   "cell_type": "code",
   "execution_count": 84,
   "metadata": {},
   "outputs": [
    {
     "name": "stderr",
     "output_type": "stream",
     "text": [
      "D:\\anaconda\\lib\\site-packages\\pandas\\core\\generic.py:5890: SettingWithCopyWarning: \n",
      "A value is trying to be set on a copy of a slice from a DataFrame\n",
      "\n",
      "See the caveats in the documentation: http://pandas.pydata.org/pandas-docs/stable/indexing.html#indexing-view-versus-copy\n",
      "  self._update_inplace(new_data)\n"
     ]
    }
   ],
   "source": [
    "tit2.head(2)\n",
    "tit2.sex.replace({\"male\":1,\"female\":0},inplace=True)\n",
    "tit2.embarked.replace({\"S\":1,\"C\":2,\"Q\":3,\"s\":4},inplace=True)\n"
   ]
  },
  {
   "cell_type": "code",
   "execution_count": 85,
   "metadata": {},
   "outputs": [
    {
     "data": {
      "text/html": [
       "<div>\n",
       "<style scoped>\n",
       "    .dataframe tbody tr th:only-of-type {\n",
       "        vertical-align: middle;\n",
       "    }\n",
       "\n",
       "    .dataframe tbody tr th {\n",
       "        vertical-align: top;\n",
       "    }\n",
       "\n",
       "    .dataframe thead th {\n",
       "        text-align: right;\n",
       "    }\n",
       "</style>\n",
       "<table border=\"1\" class=\"dataframe\">\n",
       "  <thead>\n",
       "    <tr style=\"text-align: right;\">\n",
       "      <th></th>\n",
       "      <th>pclass</th>\n",
       "      <th>survived</th>\n",
       "      <th>sex</th>\n",
       "      <th>age</th>\n",
       "      <th>sibsp</th>\n",
       "      <th>parch</th>\n",
       "      <th>fare</th>\n",
       "      <th>embarked</th>\n",
       "    </tr>\n",
       "  </thead>\n",
       "  <tbody>\n",
       "    <tr>\n",
       "      <th>0</th>\n",
       "      <td>1.0</td>\n",
       "      <td>1.0</td>\n",
       "      <td>0</td>\n",
       "      <td>29.0000</td>\n",
       "      <td>0.0</td>\n",
       "      <td>0.0</td>\n",
       "      <td>211.3375</td>\n",
       "      <td>1</td>\n",
       "    </tr>\n",
       "    <tr>\n",
       "      <th>1</th>\n",
       "      <td>1.0</td>\n",
       "      <td>1.0</td>\n",
       "      <td>1</td>\n",
       "      <td>0.9167</td>\n",
       "      <td>1.0</td>\n",
       "      <td>2.0</td>\n",
       "      <td>151.5500</td>\n",
       "      <td>1</td>\n",
       "    </tr>\n",
       "    <tr>\n",
       "      <th>2</th>\n",
       "      <td>1.0</td>\n",
       "      <td>0.0</td>\n",
       "      <td>0</td>\n",
       "      <td>2.0000</td>\n",
       "      <td>1.0</td>\n",
       "      <td>2.0</td>\n",
       "      <td>151.5500</td>\n",
       "      <td>1</td>\n",
       "    </tr>\n",
       "    <tr>\n",
       "      <th>3</th>\n",
       "      <td>1.0</td>\n",
       "      <td>0.0</td>\n",
       "      <td>1</td>\n",
       "      <td>30.0000</td>\n",
       "      <td>1.0</td>\n",
       "      <td>2.0</td>\n",
       "      <td>151.5500</td>\n",
       "      <td>1</td>\n",
       "    </tr>\n",
       "    <tr>\n",
       "      <th>4</th>\n",
       "      <td>1.0</td>\n",
       "      <td>0.0</td>\n",
       "      <td>0</td>\n",
       "      <td>25.0000</td>\n",
       "      <td>1.0</td>\n",
       "      <td>2.0</td>\n",
       "      <td>151.5500</td>\n",
       "      <td>1</td>\n",
       "    </tr>\n",
       "  </tbody>\n",
       "</table>\n",
       "</div>"
      ],
      "text/plain": [
       "   pclass  survived  sex      age  sibsp  parch      fare  embarked\n",
       "0     1.0       1.0    0  29.0000    0.0    0.0  211.3375         1\n",
       "1     1.0       1.0    1   0.9167    1.0    2.0  151.5500         1\n",
       "2     1.0       0.0    0   2.0000    1.0    2.0  151.5500         1\n",
       "3     1.0       0.0    1  30.0000    1.0    2.0  151.5500         1\n",
       "4     1.0       0.0    0  25.0000    1.0    2.0  151.5500         1"
      ]
     },
     "execution_count": 85,
     "metadata": {},
     "output_type": "execute_result"
    }
   ],
   "source": [
    "tit2.head()"
   ]
  },
  {
   "cell_type": "code",
   "execution_count": 86,
   "metadata": {},
   "outputs": [],
   "source": [
    "import sklearn\n",
    "from  sklearn.model_selection import train_test_split"
   ]
  },
  {
   "cell_type": "code",
   "execution_count": 87,
   "metadata": {},
   "outputs": [],
   "source": [
    "tit2_x=tit2.drop([\"survived\"],axis=1)\n",
    "tit2_y=tit2.survived"
   ]
  },
  {
   "cell_type": "code",
   "execution_count": 88,
   "metadata": {},
   "outputs": [],
   "source": [
    "tit2_x_train,tit2_x_test,tit2_y_train,tit2_y_test=train_test_split(tit2_x,tit2_y,test_size=0.2,random_state=101)"
   ]
  },
  {
   "cell_type": "markdown",
   "metadata": {},
   "source": [
    "# LogisticRegression"
   ]
  },
  {
   "cell_type": "code",
   "execution_count": 89,
   "metadata": {},
   "outputs": [],
   "source": [
    "from sklearn.linear_model import LogisticRegression\n",
    "from sklearn.metrics import confusion_matrix"
   ]
  },
  {
   "cell_type": "code",
   "execution_count": 90,
   "metadata": {},
   "outputs": [],
   "source": [
    "titmodel=LogisticRegression()"
   ]
  },
  {
   "cell_type": "code",
   "execution_count": 91,
   "metadata": {},
   "outputs": [
    {
     "name": "stderr",
     "output_type": "stream",
     "text": [
      "D:\\anaconda\\lib\\site-packages\\sklearn\\linear_model\\_logistic.py:940: ConvergenceWarning: lbfgs failed to converge (status=1):\n",
      "STOP: TOTAL NO. of ITERATIONS REACHED LIMIT.\n",
      "\n",
      "Increase the number of iterations (max_iter) or scale the data as shown in:\n",
      "    https://scikit-learn.org/stable/modules/preprocessing.html\n",
      "Please also refer to the documentation for alternative solver options:\n",
      "    https://scikit-learn.org/stable/modules/linear_model.html#logistic-regression\n",
      "  extra_warning_msg=_LOGISTIC_SOLVER_CONVERGENCE_MSG)\n"
     ]
    },
    {
     "data": {
      "text/plain": [
       "LogisticRegression(C=1.0, class_weight=None, dual=False, fit_intercept=True,\n",
       "                   intercept_scaling=1, l1_ratio=None, max_iter=100,\n",
       "                   multi_class='auto', n_jobs=None, penalty='l2',\n",
       "                   random_state=None, solver='lbfgs', tol=0.0001, verbose=0,\n",
       "                   warm_start=False)"
      ]
     },
     "execution_count": 91,
     "metadata": {},
     "output_type": "execute_result"
    }
   ],
   "source": [
    "titmodel.fit(tit2_x_train,tit2_y_train)"
   ]
  },
  {
   "cell_type": "code",
   "execution_count": 92,
   "metadata": {},
   "outputs": [
    {
     "data": {
      "text/html": [
       "<div>\n",
       "<style scoped>\n",
       "    .dataframe tbody tr th:only-of-type {\n",
       "        vertical-align: middle;\n",
       "    }\n",
       "\n",
       "    .dataframe tbody tr th {\n",
       "        vertical-align: top;\n",
       "    }\n",
       "\n",
       "    .dataframe thead th {\n",
       "        text-align: right;\n",
       "    }\n",
       "</style>\n",
       "<table border=\"1\" class=\"dataframe\">\n",
       "  <thead>\n",
       "    <tr style=\"text-align: right;\">\n",
       "      <th></th>\n",
       "      <th>pclass</th>\n",
       "      <th>sex</th>\n",
       "      <th>age</th>\n",
       "      <th>sibsp</th>\n",
       "      <th>parch</th>\n",
       "      <th>fare</th>\n",
       "      <th>embarked</th>\n",
       "    </tr>\n",
       "  </thead>\n",
       "  <tbody>\n",
       "    <tr>\n",
       "      <th>1218</th>\n",
       "      <td>3.0</td>\n",
       "      <td>1</td>\n",
       "      <td>30.000000</td>\n",
       "      <td>0.0</td>\n",
       "      <td>0.0</td>\n",
       "      <td>8.0500</td>\n",
       "      <td>1</td>\n",
       "    </tr>\n",
       "    <tr>\n",
       "      <th>1060</th>\n",
       "      <td>3.0</td>\n",
       "      <td>0</td>\n",
       "      <td>18.000000</td>\n",
       "      <td>0.0</td>\n",
       "      <td>0.0</td>\n",
       "      <td>7.7750</td>\n",
       "      <td>1</td>\n",
       "    </tr>\n",
       "    <tr>\n",
       "      <th>24</th>\n",
       "      <td>1.0</td>\n",
       "      <td>0</td>\n",
       "      <td>29.000000</td>\n",
       "      <td>0.0</td>\n",
       "      <td>0.0</td>\n",
       "      <td>221.7792</td>\n",
       "      <td>1</td>\n",
       "    </tr>\n",
       "    <tr>\n",
       "      <th>840</th>\n",
       "      <td>3.0</td>\n",
       "      <td>0</td>\n",
       "      <td>24.000000</td>\n",
       "      <td>0.0</td>\n",
       "      <td>0.0</td>\n",
       "      <td>8.8500</td>\n",
       "      <td>1</td>\n",
       "    </tr>\n",
       "    <tr>\n",
       "      <th>816</th>\n",
       "      <td>3.0</td>\n",
       "      <td>1</td>\n",
       "      <td>29.881135</td>\n",
       "      <td>0.0</td>\n",
       "      <td>0.0</td>\n",
       "      <td>7.8958</td>\n",
       "      <td>2</td>\n",
       "    </tr>\n",
       "  </tbody>\n",
       "</table>\n",
       "</div>"
      ],
      "text/plain": [
       "      pclass  sex        age  sibsp  parch      fare  embarked\n",
       "1218     3.0    1  30.000000    0.0    0.0    8.0500         1\n",
       "1060     3.0    0  18.000000    0.0    0.0    7.7750         1\n",
       "24       1.0    0  29.000000    0.0    0.0  221.7792         1\n",
       "840      3.0    0  24.000000    0.0    0.0    8.8500         1\n",
       "816      3.0    1  29.881135    0.0    0.0    7.8958         2"
      ]
     },
     "execution_count": 92,
     "metadata": {},
     "output_type": "execute_result"
    }
   ],
   "source": [
    "tit2_x_train.head()"
   ]
  },
  {
   "cell_type": "code",
   "execution_count": 93,
   "metadata": {},
   "outputs": [
    {
     "data": {
      "text/plain": [
       "array([0., 0., 1., 0., 1., 0., 1., 1., 1., 0., 0., 0., 0., 0., 1., 0., 1.,\n",
       "       1., 1., 1., 1., 1., 0., 0., 1., 0., 0., 1., 0., 1., 1., 1., 0., 1.,\n",
       "       0., 0., 1., 0., 1., 0., 0., 0., 0., 0., 1., 1., 1., 1., 0., 0., 1.,\n",
       "       1., 0., 0., 1., 0., 1., 1., 0., 1., 0., 0., 0., 0., 1., 0., 0., 1.,\n",
       "       0., 1., 0., 1., 1., 1., 1., 0., 0., 1., 0., 0., 0., 1., 0., 0., 0.,\n",
       "       0., 0., 0., 0., 1., 0., 1., 1., 0., 1., 0., 1., 1., 0., 1., 1., 0.,\n",
       "       0., 1., 0., 0., 0., 0., 0., 0., 0., 1., 1., 1., 0., 0., 1., 1., 1.,\n",
       "       0., 0., 0., 1., 0., 0., 0., 0., 0., 1., 0., 0., 0., 1., 0., 0., 0.,\n",
       "       0., 0., 0., 1., 0., 1., 0., 1., 0., 1., 1., 0., 0., 0., 0., 0., 0.,\n",
       "       1., 0., 0., 1., 1., 1., 1., 0., 0., 0., 0., 1., 0., 0., 1., 0., 0.,\n",
       "       0., 0., 1., 0., 0., 1., 1., 0., 0., 1., 0., 0., 0., 0., 1., 0., 1.,\n",
       "       1., 1., 0., 1., 0., 1., 0., 0., 0., 0., 0., 1., 0., 1., 0., 0., 0.,\n",
       "       1., 1., 0., 0., 1., 0., 1., 1., 1., 1., 0., 0., 0., 0., 1., 0., 0.,\n",
       "       0., 1., 1., 0., 0., 0., 1., 0., 1., 1., 0., 0., 0., 0., 0., 0., 0.,\n",
       "       0., 0., 0., 0., 1., 0., 1., 0., 1., 0., 1., 0., 1., 0., 0., 0., 0.,\n",
       "       0., 1., 0., 0., 1., 0., 0.])"
      ]
     },
     "execution_count": 93,
     "metadata": {},
     "output_type": "execute_result"
    }
   ],
   "source": [
    "pred=titmodel.predict(tit2_x_test)\n",
    "pred"
   ]
  },
  {
   "cell_type": "code",
   "execution_count": 94,
   "metadata": {},
   "outputs": [
    {
     "data": {
      "text/plain": [
       "array([[133,  28],\n",
       "       [ 22,  79]], dtype=int64)"
      ]
     },
     "execution_count": 94,
     "metadata": {},
     "output_type": "execute_result"
    }
   ],
   "source": [
    "tab1=confusion_matrix(pred,tit2_y_test)\n",
    "tab1\n"
   ]
  },
  {
   "cell_type": "code",
   "execution_count": 95,
   "metadata": {},
   "outputs": [
    {
     "data": {
      "text/plain": [
       "80.91603053435115"
      ]
     },
     "execution_count": 95,
     "metadata": {},
     "output_type": "execute_result"
    }
   ],
   "source": [
    "tab1.diagonal().sum()/tab1.sum()*100"
   ]
  },
  {
   "cell_type": "code",
   "execution_count": 96,
   "metadata": {},
   "outputs": [
    {
     "data": {
      "text/plain": [
       "array([[0.85057026, 0.14942974],\n",
       "       [0.51132577, 0.48867423],\n",
       "       [0.30588055, 0.69411945],\n",
       "       [0.67170196, 0.32829804],\n",
       "       [0.22578482, 0.77421518],\n",
       "       [0.72349295, 0.27650705],\n",
       "       [0.28838106, 0.71161894],\n",
       "       [0.38340538, 0.61659462],\n",
       "       [0.14582507, 0.85417493],\n",
       "       [0.91716819, 0.08283181],\n",
       "       [0.90934596, 0.09065404],\n",
       "       [0.69305021, 0.30694979],\n",
       "       [0.93336976, 0.06663024],\n",
       "       [0.63085529, 0.36914471],\n",
       "       [0.27557392, 0.72442608],\n",
       "       [0.89612169, 0.10387831],\n",
       "       [0.39751105, 0.60248895],\n",
       "       [0.07508369, 0.92491631],\n",
       "       [0.4704824 , 0.5295176 ],\n",
       "       [0.41085824, 0.58914176],\n",
       "       [0.40649276, 0.59350724],\n",
       "       [0.088387  , 0.911613  ],\n",
       "       [0.90258706, 0.09741294],\n",
       "       [0.8687831 , 0.1312169 ],\n",
       "       [0.26909634, 0.73090366],\n",
       "       [0.85057119, 0.14942881],\n",
       "       [0.90940849, 0.09059151],\n",
       "       [0.33648415, 0.66351585],\n",
       "       [0.88119911, 0.11880089],\n",
       "       [0.30788816, 0.69211184],\n",
       "       [0.35323039, 0.64676961],\n",
       "       [0.07297809, 0.92702191],\n",
       "       [0.89030144, 0.10969856],\n",
       "       [0.05111465, 0.94888535],\n",
       "       [0.5187683 , 0.4812317 ],\n",
       "       [0.83273537, 0.16726463],\n",
       "       [0.30527748, 0.69472252],\n",
       "       [0.87955442, 0.12044558],\n",
       "       [0.07396165, 0.92603835],\n",
       "       [0.87907711, 0.12092289],\n",
       "       [0.73023495, 0.26976505],\n",
       "       [0.86877732, 0.13122268],\n",
       "       [0.65118751, 0.34881249],\n",
       "       [0.89305503, 0.10694497],\n",
       "       [0.37626173, 0.62373827],\n",
       "       [0.35318253, 0.64681747],\n",
       "       [0.06624797, 0.93375203],\n",
       "       [0.3632737 , 0.6367263 ],\n",
       "       [0.5810389 , 0.4189611 ],\n",
       "       [0.51303742, 0.48696258],\n",
       "       [0.20585542, 0.79414458],\n",
       "       [0.43419745, 0.56580255],\n",
       "       [0.7170284 , 0.2829716 ],\n",
       "       [0.90258706, 0.09741294],\n",
       "       [0.09266244, 0.90733756],\n",
       "       [0.721732  , 0.278268  ],\n",
       "       [0.3936628 , 0.6063372 ],\n",
       "       [0.10615018, 0.89384982],\n",
       "       [0.74643931, 0.25356069],\n",
       "       [0.28628619, 0.71371381],\n",
       "       [0.87907634, 0.12092366],\n",
       "       [0.87895338, 0.12104662],\n",
       "       [0.81769223, 0.18230777],\n",
       "       [0.82739814, 0.17260186],\n",
       "       [0.08691822, 0.91308178],\n",
       "       [0.8604746 , 0.1395254 ],\n",
       "       [0.90258833, 0.09741167],\n",
       "       [0.39752143, 0.60247857],\n",
       "       [0.90942992, 0.09057008],\n",
       "       [0.30144994, 0.69855006],\n",
       "       [0.53597368, 0.46402632],\n",
       "       [0.09204552, 0.90795448],\n",
       "       [0.11573303, 0.88426697],\n",
       "       [0.03205965, 0.96794035],\n",
       "       [0.16357411, 0.83642589],\n",
       "       [0.58264292, 0.41735708],\n",
       "       [0.50915874, 0.49084126],\n",
       "       [0.22805484, 0.77194516],\n",
       "       [0.5913054 , 0.4086946 ],\n",
       "       [0.83273537, 0.16726463],\n",
       "       [0.88521023, 0.11478977],\n",
       "       [0.40725183, 0.59274817],\n",
       "       [0.78002874, 0.21997126],\n",
       "       [0.70742879, 0.29257121],\n",
       "       [0.55739721, 0.44260279],\n",
       "       [0.91435165, 0.08564835],\n",
       "       [0.77406214, 0.22593786],\n",
       "       [0.93607491, 0.06392509],\n",
       "       [0.93418253, 0.06581747],\n",
       "       [0.18092824, 0.81907176],\n",
       "       [0.92711371, 0.07288629],\n",
       "       [0.13004714, 0.86995286],\n",
       "       [0.05008038, 0.94991962],\n",
       "       [0.87303698, 0.12696302],\n",
       "       [0.05685542, 0.94314458],\n",
       "       [0.55739721, 0.44260279],\n",
       "       [0.41085647, 0.58914353],\n",
       "       [0.28801799, 0.71198201],\n",
       "       [0.52944649, 0.47055351],\n",
       "       [0.21939331, 0.78060669],\n",
       "       [0.44474458, 0.55525542],\n",
       "       [0.85228351, 0.14771649],\n",
       "       [0.86891073, 0.13108927],\n",
       "       [0.3542691 , 0.6457309 ],\n",
       "       [0.56700655, 0.43299345],\n",
       "       [0.88234294, 0.11765706],\n",
       "       [0.90256355, 0.09743645],\n",
       "       [0.87282455, 0.12717545],\n",
       "       [0.91583768, 0.08416232],\n",
       "       [0.89492039, 0.10507961],\n",
       "       [0.89492039, 0.10507961],\n",
       "       [0.34785588, 0.65214412],\n",
       "       [0.29198345, 0.70801655],\n",
       "       [0.41989629, 0.58010371],\n",
       "       [0.51327573, 0.48672427],\n",
       "       [0.59179248, 0.40820752],\n",
       "       [0.2112562 , 0.7887438 ],\n",
       "       [0.24410284, 0.75589716],\n",
       "       [0.28520751, 0.71479249],\n",
       "       [0.85525841, 0.14474159],\n",
       "       [0.53032871, 0.46967129],\n",
       "       [0.50206515, 0.49793485],\n",
       "       [0.35313134, 0.64686866],\n",
       "       [0.92118367, 0.07881633],\n",
       "       [0.7629831 , 0.2370169 ],\n",
       "       [0.69620044, 0.30379956],\n",
       "       [0.90258959, 0.09741041],\n",
       "       [0.90256355, 0.09743645],\n",
       "       [0.48407738, 0.51592262],\n",
       "       [0.57052237, 0.42947763],\n",
       "       [0.50616768, 0.49383232],\n",
       "       [0.63511041, 0.36488959],\n",
       "       [0.46865567, 0.53134433],\n",
       "       [0.65248071, 0.34751929],\n",
       "       [0.7597037 , 0.2402963 ],\n",
       "       [0.85802914, 0.14197086],\n",
       "       [0.71568291, 0.28431709],\n",
       "       [0.89809687, 0.10190313],\n",
       "       [0.89876761, 0.10123239],\n",
       "       [0.47029551, 0.52970449],\n",
       "       [0.82015273, 0.17984727],\n",
       "       [0.1244597 , 0.8755403 ],\n",
       "       [0.88890973, 0.11109027],\n",
       "       [0.30410646, 0.69589354],\n",
       "       [0.85057209, 0.14942791],\n",
       "       [0.16623207, 0.83376793],\n",
       "       [0.21378368, 0.78621632],\n",
       "       [0.85587288, 0.14412712],\n",
       "       [0.83089335, 0.16910665],\n",
       "       [0.91964322, 0.08035678],\n",
       "       [0.64536928, 0.35463072],\n",
       "       [0.55272402, 0.44727598],\n",
       "       [0.77745462, 0.22254538],\n",
       "       [0.4583869 , 0.5416131 ],\n",
       "       [0.810718  , 0.189282  ],\n",
       "       [0.84991736, 0.15008264],\n",
       "       [0.35318915, 0.64681085],\n",
       "       [0.08123324, 0.91876676],\n",
       "       [0.22594259, 0.77405741],\n",
       "       [0.22654011, 0.77345989],\n",
       "       [0.50594807, 0.49405193],\n",
       "       [0.90256355, 0.09743645],\n",
       "       [0.54577002, 0.45422998],\n",
       "       [0.6514975 , 0.3485025 ],\n",
       "       [0.08167986, 0.91832014],\n",
       "       [0.92582797, 0.07417203],\n",
       "       [0.84301298, 0.15698702],\n",
       "       [0.20946981, 0.79053019],\n",
       "       [0.88796141, 0.11203859],\n",
       "       [0.77784921, 0.22215079],\n",
       "       [0.89959172, 0.10040828],\n",
       "       [0.64765348, 0.35234652],\n",
       "       [0.43638317, 0.56361683],\n",
       "       [0.51356983, 0.48643017],\n",
       "       [0.88454988, 0.11545012],\n",
       "       [0.13772216, 0.86227784],\n",
       "       [0.28320008, 0.71679992],\n",
       "       [0.92804935, 0.07195065],\n",
       "       [0.52794313, 0.47205687],\n",
       "       [0.27567033, 0.72432967],\n",
       "       [0.83857389, 0.16142611],\n",
       "       [0.84362989, 0.15637011],\n",
       "       [0.62498049, 0.37501951],\n",
       "       [0.87896592, 0.12103408],\n",
       "       [0.06478149, 0.93521851],\n",
       "       [0.50320887, 0.49679113],\n",
       "       [0.4705094 , 0.5294906 ],\n",
       "       [0.06049671, 0.93950329],\n",
       "       [0.34833956, 0.65166044],\n",
       "       [0.66356416, 0.33643584],\n",
       "       [0.14435703, 0.85564297],\n",
       "       [0.95903614, 0.04096386],\n",
       "       [0.12708065, 0.87291935],\n",
       "       [0.50285479, 0.49714521],\n",
       "       [0.87391885, 0.12608115],\n",
       "       [0.71674044, 0.28325956],\n",
       "       [0.92093093, 0.07906907],\n",
       "       [0.85267457, 0.14732543],\n",
       "       [0.4811535 , 0.5188465 ],\n",
       "       [0.65450907, 0.34549093],\n",
       "       [0.06240311, 0.93759689],\n",
       "       [0.89492039, 0.10507961],\n",
       "       [0.79010985, 0.20989015],\n",
       "       [0.71015742, 0.28984258],\n",
       "       [0.43269693, 0.56730307],\n",
       "       [0.35452818, 0.64547182],\n",
       "       [0.89588736, 0.10411264],\n",
       "       [0.63544788, 0.36455212],\n",
       "       [0.29094417, 0.70905583],\n",
       "       [0.75329251, 0.24670749],\n",
       "       [0.08289906, 0.91710094],\n",
       "       [0.49742747, 0.50257253],\n",
       "       [0.05559752, 0.94440248],\n",
       "       [0.41629147, 0.58370853],\n",
       "       [0.89588736, 0.10411264],\n",
       "       [0.52453245, 0.47546755],\n",
       "       [0.87300733, 0.12699267],\n",
       "       [0.90941266, 0.09058734],\n",
       "       [0.17490113, 0.82509887],\n",
       "       [0.70138133, 0.29861867],\n",
       "       [0.90256355, 0.09743645],\n",
       "       [0.80266326, 0.19733674],\n",
       "       [0.35318253, 0.64681747],\n",
       "       [0.08129038, 0.91870962],\n",
       "       [0.90157533, 0.09842467],\n",
       "       [0.85037574, 0.14962426],\n",
       "       [0.90260548, 0.09739452],\n",
       "       [0.45174589, 0.54825411],\n",
       "       [0.88889046, 0.11110954],\n",
       "       [0.20663809, 0.79336191],\n",
       "       [0.4705094 , 0.5294906 ],\n",
       "       [0.8747388 , 0.1252612 ],\n",
       "       [0.89408837, 0.10591163],\n",
       "       [0.90234216, 0.09765784],\n",
       "       [0.90258706, 0.09741294],\n",
       "       [0.75353424, 0.24646576],\n",
       "       [0.65470854, 0.34529146],\n",
       "       [0.91037116, 0.08962884],\n",
       "       [0.51439935, 0.48560065],\n",
       "       [0.78616706, 0.21383294],\n",
       "       [0.71060714, 0.28939286],\n",
       "       [0.90256355, 0.09743645],\n",
       "       [0.35317096, 0.64682904],\n",
       "       [0.89107077, 0.10892923],\n",
       "       [0.24832925, 0.75167075],\n",
       "       [0.90256355, 0.09743645],\n",
       "       [0.30756718, 0.69243282],\n",
       "       [0.77324683, 0.22675317],\n",
       "       [0.0921663 , 0.9078337 ],\n",
       "       [0.82116422, 0.17883578],\n",
       "       [0.24641625, 0.75358375],\n",
       "       [0.90271596, 0.09728404],\n",
       "       [0.87907634, 0.12092366],\n",
       "       [0.79861833, 0.20138167],\n",
       "       [0.87316108, 0.12683892],\n",
       "       [0.85097245, 0.14902755],\n",
       "       [0.48472648, 0.51527352],\n",
       "       [0.90246245, 0.09753755],\n",
       "       [0.87907711, 0.12092289],\n",
       "       [0.46971809, 0.53028191],\n",
       "       [0.9466072 , 0.0533928 ],\n",
       "       [0.85057302, 0.14942698]])"
      ]
     },
     "execution_count": 96,
     "metadata": {},
     "output_type": "execute_result"
    }
   ],
   "source": [
    "pred_prob=titmodel.predict_proba(tit2_x_test)\n",
    "pred_prob"
   ]
  },
  {
   "cell_type": "markdown",
   "metadata": {},
   "source": [
    "# DecisionTreeClassifier"
   ]
  },
  {
   "cell_type": "code",
   "execution_count": 97,
   "metadata": {},
   "outputs": [],
   "source": [
    "from sklearn.tree import DecisionTreeClassifier"
   ]
  },
  {
   "cell_type": "code",
   "execution_count": 98,
   "metadata": {},
   "outputs": [
    {
     "data": {
      "text/plain": [
       "DecisionTreeClassifier(ccp_alpha=0.0, class_weight=None, criterion='gini',\n",
       "                       max_depth=None, max_features=None, max_leaf_nodes=None,\n",
       "                       min_impurity_decrease=0.0, min_impurity_split=None,\n",
       "                       min_samples_leaf=1, min_samples_split=2,\n",
       "                       min_weight_fraction_leaf=0.0, presort='deprecated',\n",
       "                       random_state=None, splitter='best')"
      ]
     },
     "execution_count": 98,
     "metadata": {},
     "output_type": "execute_result"
    }
   ],
   "source": [
    "dtree_tit=DecisionTreeClassifier()\n",
    "dtree_tit"
   ]
  },
  {
   "cell_type": "code",
   "execution_count": 99,
   "metadata": {},
   "outputs": [
    {
     "data": {
      "text/plain": [
       "DecisionTreeClassifier(ccp_alpha=0.0, class_weight=None, criterion='gini',\n",
       "                       max_depth=None, max_features=None, max_leaf_nodes=None,\n",
       "                       min_impurity_decrease=0.0, min_impurity_split=None,\n",
       "                       min_samples_leaf=1, min_samples_split=2,\n",
       "                       min_weight_fraction_leaf=0.0, presort='deprecated',\n",
       "                       random_state=None, splitter='best')"
      ]
     },
     "execution_count": 99,
     "metadata": {},
     "output_type": "execute_result"
    }
   ],
   "source": [
    "dtree_tit.fit(tit2_x_train ,tit2_y_train)"
   ]
  },
  {
   "cell_type": "code",
   "execution_count": 100,
   "metadata": {},
   "outputs": [
    {
     "data": {
      "text/plain": [
       "array([0., 1., 1., 0., 1., 0., 0., 1., 1., 0., 0., 0., 0., 0., 0., 0., 0.,\n",
       "       1., 0., 0., 0., 1., 0., 0., 1., 0., 0., 0., 0., 1., 0., 1., 0., 1.,\n",
       "       1., 0., 1., 0., 1., 0., 0., 0., 1., 0., 1., 1., 1., 0., 0., 0., 1.,\n",
       "       1., 0., 0., 1., 0., 1., 1., 0., 1., 0., 0., 1., 0., 1., 1., 0., 0.,\n",
       "       1., 1., 0., 1., 1., 0., 1., 1., 0., 1., 0., 0., 1., 1., 0., 0., 0.,\n",
       "       1., 0., 0., 0., 1., 0., 1., 1., 0., 1., 0., 0., 1., 0., 1., 0., 0.,\n",
       "       0., 1., 1., 0., 0., 0., 0., 1., 1., 1., 1., 1., 0., 0., 1., 0., 1.,\n",
       "       0., 1., 0., 1., 0., 0., 1., 0., 0., 1., 1., 0., 0., 0., 0., 0., 1.,\n",
       "       0., 0., 0., 0., 0., 1., 0., 0., 0., 0., 1., 0., 0., 0., 0., 1., 0.,\n",
       "       0., 1., 0., 1., 1., 1., 1., 0., 0., 0., 0., 1., 0., 0., 1., 0., 0.,\n",
       "       0., 0., 1., 0., 0., 1., 1., 0., 1., 1., 0., 1., 0., 0., 1., 1., 0.,\n",
       "       1., 1., 1., 1., 0., 1., 0., 0., 1., 0., 0., 1., 1., 1., 1., 1., 0.,\n",
       "       0., 0., 1., 1., 1., 0., 1., 0., 1., 1., 1., 0., 0., 0., 1., 0., 0.,\n",
       "       0., 1., 1., 0., 0., 0., 0., 0., 1., 0., 0., 0., 1., 0., 0., 1., 0.,\n",
       "       0., 0., 0., 0., 1., 0., 1., 0., 1., 0., 1., 0., 1., 0., 0., 0., 0.,\n",
       "       0., 0., 0., 0., 1., 0., 0.])"
      ]
     },
     "execution_count": 100,
     "metadata": {},
     "output_type": "execute_result"
    }
   ],
   "source": [
    "pred_tit=dtree_tit.predict(tit2_x_test)\n",
    "pred_tit"
   ]
  },
  {
   "cell_type": "code",
   "execution_count": 101,
   "metadata": {},
   "outputs": [
    {
     "data": {
      "text/plain": [
       "75.95419847328245"
      ]
     },
     "execution_count": 101,
     "metadata": {},
     "output_type": "execute_result"
    }
   ],
   "source": [
    "tab=confusion_matrix(pred_tit,tit2_y_test)\n",
    "tab\n",
    "tab.diagonal().sum()/tab.sum()*100"
   ]
  },
  {
   "cell_type": "code",
   "execution_count": 102,
   "metadata": {},
   "outputs": [
    {
     "data": {
      "text/html": [
       "<div>\n",
       "<style scoped>\n",
       "    .dataframe tbody tr th:only-of-type {\n",
       "        vertical-align: middle;\n",
       "    }\n",
       "\n",
       "    .dataframe tbody tr th {\n",
       "        vertical-align: top;\n",
       "    }\n",
       "\n",
       "    .dataframe thead th {\n",
       "        text-align: right;\n",
       "    }\n",
       "</style>\n",
       "<table border=\"1\" class=\"dataframe\">\n",
       "  <thead>\n",
       "    <tr style=\"text-align: right;\">\n",
       "      <th></th>\n",
       "      <th>Importance</th>\n",
       "      <th>Variable_Name</th>\n",
       "    </tr>\n",
       "  </thead>\n",
       "  <tbody>\n",
       "    <tr>\n",
       "      <th>1</th>\n",
       "      <td>0.278509</td>\n",
       "      <td>sex</td>\n",
       "    </tr>\n",
       "    <tr>\n",
       "      <th>2</th>\n",
       "      <td>0.264146</td>\n",
       "      <td>age</td>\n",
       "    </tr>\n",
       "    <tr>\n",
       "      <th>5</th>\n",
       "      <td>0.249712</td>\n",
       "      <td>fare</td>\n",
       "    </tr>\n",
       "    <tr>\n",
       "      <th>0</th>\n",
       "      <td>0.110933</td>\n",
       "      <td>pclass</td>\n",
       "    </tr>\n",
       "    <tr>\n",
       "      <th>3</th>\n",
       "      <td>0.044353</td>\n",
       "      <td>sibsp</td>\n",
       "    </tr>\n",
       "    <tr>\n",
       "      <th>6</th>\n",
       "      <td>0.033340</td>\n",
       "      <td>embarked</td>\n",
       "    </tr>\n",
       "    <tr>\n",
       "      <th>4</th>\n",
       "      <td>0.019007</td>\n",
       "      <td>parch</td>\n",
       "    </tr>\n",
       "  </tbody>\n",
       "</table>\n",
       "</div>"
      ],
      "text/plain": [
       "   Importance Variable_Name\n",
       "1    0.278509           sex\n",
       "2    0.264146           age\n",
       "5    0.249712          fare\n",
       "0    0.110933        pclass\n",
       "3    0.044353         sibsp\n",
       "6    0.033340      embarked\n",
       "4    0.019007         parch"
      ]
     },
     "execution_count": 102,
     "metadata": {},
     "output_type": "execute_result"
    }
   ],
   "source": [
    "feature_score=pd.DataFrame({\"Importance\":dtree_tit.feature_importances_,\"Variable_Name\":tit2_x_train.columns})\n",
    "feature_score\n",
    "feature_score.sort_values([\"Importance\"],ascending=False)"
   ]
  },
  {
   "cell_type": "markdown",
   "metadata": {},
   "source": [
    "# AdaBoostClassifier"
   ]
  },
  {
   "cell_type": "code",
   "execution_count": 103,
   "metadata": {},
   "outputs": [],
   "source": [
    "from sklearn.ensemble import AdaBoostClassifier"
   ]
  },
  {
   "cell_type": "code",
   "execution_count": 104,
   "metadata": {},
   "outputs": [],
   "source": [
    "from sklearn.ensemble import RandomForestClassifier"
   ]
  },
  {
   "cell_type": "code",
   "execution_count": 105,
   "metadata": {},
   "outputs": [],
   "source": [
    "tit_boost=AdaBoostClassifier(RandomForestClassifier(),n_estimators=20)"
   ]
  },
  {
   "cell_type": "code",
   "execution_count": 106,
   "metadata": {},
   "outputs": [
    {
     "data": {
      "text/plain": [
       "AdaBoostClassifier(algorithm='SAMME.R',\n",
       "                   base_estimator=RandomForestClassifier(bootstrap=True,\n",
       "                                                         ccp_alpha=0.0,\n",
       "                                                         class_weight=None,\n",
       "                                                         criterion='gini',\n",
       "                                                         max_depth=None,\n",
       "                                                         max_features='auto',\n",
       "                                                         max_leaf_nodes=None,\n",
       "                                                         max_samples=None,\n",
       "                                                         min_impurity_decrease=0.0,\n",
       "                                                         min_impurity_split=None,\n",
       "                                                         min_samples_leaf=1,\n",
       "                                                         min_samples_split=2,\n",
       "                                                         min_weight_fraction_leaf=0.0,\n",
       "                                                         n_estimators=100,\n",
       "                                                         n_jobs=None,\n",
       "                                                         oob_score=False,\n",
       "                                                         random_state=None,\n",
       "                                                         verbose=0,\n",
       "                                                         warm_start=False),\n",
       "                   learning_rate=1.0, n_estimators=20, random_state=None)"
      ]
     },
     "execution_count": 106,
     "metadata": {},
     "output_type": "execute_result"
    }
   ],
   "source": [
    "tit_boost.fit(tit2_x_train,tit2_y_train)"
   ]
  },
  {
   "cell_type": "code",
   "execution_count": 107,
   "metadata": {},
   "outputs": [
    {
     "data": {
      "text/plain": [
       "array([0., 1., 1., 0., 1., 0., 1., 0., 1., 0., 0., 0., 0., 0., 1., 0., 1.,\n",
       "       1., 0., 1., 0., 1., 0., 0., 1., 0., 1., 0., 0., 1., 1., 1., 0., 1.,\n",
       "       1., 0., 1., 0., 1., 0., 0., 0., 1., 0., 1., 1., 1., 0., 0., 0., 1.,\n",
       "       1., 0., 0., 1., 1., 1., 1., 0., 1., 0., 0., 1., 0., 1., 0., 0., 1.,\n",
       "       0., 0., 0., 1., 1., 1., 1., 1., 0., 1., 0., 0., 0., 1., 0., 0., 0.,\n",
       "       0., 0., 0., 0., 1., 0., 1., 1., 0., 1., 0., 1., 1., 0., 1., 0., 0.,\n",
       "       0., 1., 1., 0., 0., 0., 0., 1., 1., 1., 0., 1., 0., 0., 1., 1., 1.,\n",
       "       0., 0., 0., 1., 0., 0., 1., 0., 0., 1., 1., 0., 0., 0., 0., 0., 0.,\n",
       "       0., 0., 0., 0., 0., 1., 0., 0., 0., 1., 1., 0., 0., 0., 0., 1., 0.,\n",
       "       0., 1., 0., 1., 1., 1., 1., 0., 0., 0., 0., 1., 0., 0., 0., 0., 0.,\n",
       "       0., 0., 1., 0., 0., 1., 1., 0., 1., 1., 0., 1., 0., 0., 1., 1., 0.,\n",
       "       1., 1., 0., 1., 0., 1., 0., 0., 1., 0., 0., 1., 0., 1., 1., 1., 0.,\n",
       "       1., 0., 1., 0., 1., 0., 1., 0., 1., 1., 1., 0., 0., 0., 1., 0., 0.,\n",
       "       0., 1., 1., 0., 0., 0., 0., 0., 1., 0., 0., 0., 1., 0., 0., 1., 0.,\n",
       "       0., 0., 0., 0., 1., 0., 1., 0., 0., 0., 1., 0., 1., 0., 0., 0., 0.,\n",
       "       1., 0., 0., 0., 0., 0., 0.])"
      ]
     },
     "execution_count": 107,
     "metadata": {},
     "output_type": "execute_result"
    }
   ],
   "source": [
    "pred_boost=tit_boost.predict(tit2_x_test)\n",
    "pred_boost"
   ]
  },
  {
   "cell_type": "code",
   "execution_count": 108,
   "metadata": {},
   "outputs": [
    {
     "data": {
      "text/plain": [
       "array([[128,  29],\n",
       "       [ 27,  78]], dtype=int64)"
      ]
     },
     "execution_count": 108,
     "metadata": {},
     "output_type": "execute_result"
    }
   ],
   "source": [
    "tab_boost=confusion_matrix(pred_boost,tit2_y_test)\n",
    "tab_boost\n"
   ]
  },
  {
   "cell_type": "code",
   "execution_count": 109,
   "metadata": {},
   "outputs": [
    {
     "data": {
      "text/plain": [
       "78.62595419847328"
      ]
     },
     "execution_count": 109,
     "metadata": {},
     "output_type": "execute_result"
    }
   ],
   "source": [
    "tab_boost.diagonal().sum()/tab_boost.sum()*100"
   ]
  }
 ],
 "metadata": {
  "kernelspec": {
   "display_name": "Python 3",
   "language": "python",
   "name": "python3"
  },
  "language_info": {
   "codemirror_mode": {
    "name": "ipython",
    "version": 3
   },
   "file_extension": ".py",
   "mimetype": "text/x-python",
   "name": "python",
   "nbconvert_exporter": "python",
   "pygments_lexer": "ipython3",
   "version": "3.7.1"
  }
 },
 "nbformat": 4,
 "nbformat_minor": 2
}
